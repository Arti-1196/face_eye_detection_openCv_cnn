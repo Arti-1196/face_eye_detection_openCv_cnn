{
 "cells": [
  {
   "cell_type": "code",
   "execution_count": 1,
   "id": "237f73c0-b9b1-4e75-bc84-6f83cbabcad1",
   "metadata": {},
   "outputs": [],
   "source": [
    "import cv2"
   ]
  },
  {
   "cell_type": "code",
   "execution_count": 2,
   "id": "d1778be8-7ad7-40e0-9899-471acc479418",
   "metadata": {},
   "outputs": [],
   "source": [
    "img = cv2.imread(r'C:\\Users\\ArtiMarthak\\Downloads\\cv\\data\\people\\Jenna_Ortega_2.jpg')"
   ]
  },
  {
   "cell_type": "code",
   "execution_count": 3,
   "id": "65222933-2eee-4cbd-9688-a7192fd980d1",
   "metadata": {},
   "outputs": [],
   "source": [
    "gray = cv2.cvtColor(img,cv2.COLOR_BGR2GRAY)"
   ]
  },
  {
   "cell_type": "code",
   "execution_count": 4,
   "id": "4d1dc3e6-abc9-4897-bd78-3828d6baa3cc",
   "metadata": {},
   "outputs": [],
   "source": [
    "haar_cascade = cv2.CascadeClassifier(r'C:\\Users\\ArtiMarthak\\Downloads\\cv\\other_project\\haar-cascade-files-master\\haarcascade_frontalface_default.xml')"
   ]
  },
  {
   "cell_type": "code",
   "execution_count": 5,
   "id": "231747eb-d600-40db-b593-efb027d037c0",
   "metadata": {},
   "outputs": [],
   "source": [
    "face_re = haar_cascade.detectMultiScale(gray,1.5,9)"
   ]
  },
  {
   "cell_type": "code",
   "execution_count": 6,
   "id": "5d77b669-cd0c-402d-ae2f-37ac37476c37",
   "metadata": {},
   "outputs": [
    {
     "name": "stdout",
     "output_type": "stream",
     "text": [
      "[[448 114 273 273]]\n"
     ]
    }
   ],
   "source": [
    "print(face_re)"
   ]
  },
  {
   "cell_type": "code",
   "execution_count": 7,
   "id": "a77d0cfa-baf1-433e-9cf3-ccbf92577f67",
   "metadata": {},
   "outputs": [],
   "source": [
    "for(x,y,w,h) in face_re:\n",
    "    cv2.rectangle(img,(x,y),(x+w,y+h),(0,255,0),2)\n"
   ]
  },
  {
   "cell_type": "code",
   "execution_count": null,
   "id": "58a16d14-e293-4aa3-8e83-313eef337740",
   "metadata": {},
   "outputs": [],
   "source": [
    "cv2.imshow('detected face',img)"
   ]
  },
  {
   "cell_type": "code",
   "execution_count": null,
   "id": "61683f24-cd27-443c-872e-381e84ffa9ac",
   "metadata": {},
   "outputs": [],
   "source": [
    "cv2.waitKey(0)"
   ]
  },
  {
   "cell_type": "code",
   "execution_count": 11,
   "id": "89199499-c11b-4bd9-81fa-ccaf3fbf9157",
   "metadata": {},
   "outputs": [
    {
     "ename": "SyntaxError",
     "evalue": "'break' outside loop (Temp/ipykernel_11200/2248627764.py, line 3)",
     "output_type": "error",
     "traceback": [
      "\u001b[1;36m  File \u001b[1;32m\"C:\\Users\\ARTIMA~1\\AppData\\Local\\Temp/ipykernel_11200/2248627764.py\"\u001b[1;36m, line \u001b[1;32m3\u001b[0m\n\u001b[1;33m    break\u001b[0m\n\u001b[1;37m    ^\u001b[0m\n\u001b[1;31mSyntaxError\u001b[0m\u001b[1;31m:\u001b[0m 'break' outside loop\n"
     ]
    }
   ],
   "source": []
  },
  {
   "cell_type": "code",
   "execution_count": null,
   "id": "fef9b2f6-e2e3-438b-aeb4-32b6097a99bc",
   "metadata": {},
   "outputs": [],
   "source": []
  }
 ],
 "metadata": {
  "kernelspec": {
   "display_name": "Python 3 (ipykernel)",
   "language": "python",
   "name": "python3"
  },
  "language_info": {
   "codemirror_mode": {
    "name": "ipython",
    "version": 3
   },
   "file_extension": ".py",
   "mimetype": "text/x-python",
   "name": "python",
   "nbconvert_exporter": "python",
   "pygments_lexer": "ipython3",
   "version": "3.9.7"
  }
 },
 "nbformat": 4,
 "nbformat_minor": 5
}
