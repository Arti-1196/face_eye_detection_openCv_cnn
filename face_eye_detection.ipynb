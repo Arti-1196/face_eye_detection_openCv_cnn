{
 "cells": [
  {
   "cell_type": "code",
   "execution_count": 8,
   "id": "003b9efd-95f3-4860-9552-15c94ef17bfc",
   "metadata": {},
   "outputs": [],
   "source": [
    "import cv2"
   ]
  },
  {
   "cell_type": "code",
   "execution_count": 9,
   "id": "3de56c66-aaf1-4edd-9bdb-6134ca79a70e",
   "metadata": {},
   "outputs": [],
   "source": [
    "face_cascade = cv2.CascadeClassifier(r'C:\\Users\\ArtiMarthak\\Downloads\\cv\\other_project\\haar-cascade-files-master\\haarcascade_frontalface_default.xml')"
   ]
  },
  {
   "cell_type": "code",
   "execution_count": 10,
   "id": "029a033f-3330-410e-ac97-f15edc438432",
   "metadata": {},
   "outputs": [],
   "source": [
    "eye_cascade = cv2.CascadeClassifier(r'C:\\Users\\ArtiMarthak\\Downloads\\cv\\other_project\\haar-cascade-files-master\\haarcascade_eye.xml')"
   ]
  },
  {
   "cell_type": "code",
   "execution_count": 18,
   "id": "98c07cb2-40f4-4ce7-b551-6273d4488327",
   "metadata": {},
   "outputs": [],
   "source": [
    "cap = cv2.VideoCapture(0)\n",
    "while cap.isOpened():\n",
    "    ret,img = cap.read()\n",
    "    gray = cv2.cvtColor(img,cv2.COLOR_BGR2GRAY)\n",
    "    \n",
    "    #detect face for different size in input img\n",
    "    face = face_cascade.detectMultiScale(gray,1.3,5)\n",
    "    \n",
    "    for(x,y,w,h) in face:\n",
    "        cv2.rectangle(img,(x,y),(x+w,y+h),(255,255,0),2)\n",
    "        roi_gray = gray[y:y+h,x:x+w]\n",
    "        roi_color = img[y:y+h,x:x+w]\n",
    "        \n",
    "        #detect eyes of different size in input image\n",
    "        eye = eye_cascade.detectMultiScale(roi_gray)\n",
    "        \n",
    "        #to draw rectangle in eyes\n",
    "        for(ex,ey,ew,eh) in eye:\n",
    "            cv2.rectangle(roi_color,(ex,ey),(ex+ew,ey+eh),(0,127,255),2)\n",
    "            \n",
    "    #display image \n",
    "    cv2.imshow('img',img)\n",
    "    \n",
    "    key = cv2.waitKey(30)\n",
    "\n",
    "    if key == ord('q'):\n",
    "        #close the window\n",
    "        cap.release()\n",
    "        #de-allocate any associated memory usage\n",
    "        cv2.destroyAllWindows()\n",
    "        break"
   ]
  },
  {
   "cell_type": "code",
   "execution_count": null,
   "id": "0046a8cb-4dcc-4ee4-831c-3aced3fb16f1",
   "metadata": {},
   "outputs": [],
   "source": []
  }
 ],
 "metadata": {
  "kernelspec": {
   "display_name": "Python 3 (ipykernel)",
   "language": "python",
   "name": "python3"
  },
  "language_info": {
   "codemirror_mode": {
    "name": "ipython",
    "version": 3
   },
   "file_extension": ".py",
   "mimetype": "text/x-python",
   "name": "python",
   "nbconvert_exporter": "python",
   "pygments_lexer": "ipython3",
   "version": "3.9.7"
  }
 },
 "nbformat": 4,
 "nbformat_minor": 5
}
